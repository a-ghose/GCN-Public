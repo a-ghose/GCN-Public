{
  "nbformat": 4,
  "nbformat_minor": 0,
  "metadata": {
    "colab": {
      "name": "Pytorch_CNN_MNIST.ipynb",
      "provenance": []
    },
    "kernelspec": {
      "name": "python3",
      "display_name": "Python 3"
    },
    "accelerator": "GPU"
  },
  "cells": [
    {
      "cell_type": "code",
      "metadata": {
        "id": "uwki8vNjWHAV",
        "colab_type": "code",
        "colab": {
          "base_uri": "https://localhost:8080/",
          "height": 34
        },
        "outputId": "fa36cfbc-977c-4775-e5a7-4687309c1ebc"
      },
      "source": [
        "import torch\n",
        "import torchvision\n",
        "from torchvision import transforms, datasets\n",
        "\n",
        "\n",
        "train_batch_size=64\n",
        "test_batch_size=1000\n",
        "epochs =3\n",
        "lr=0.01\n",
        "momentum = 0.5\n",
        "no_cuda = False\n",
        "seed = 1\n",
        "log_interval = 1000\n",
        "save_model = True\n",
        "random_seed = 1\n",
        "device = torch.device(\"cuda\")\n",
        "torch.backends.cudnn.enabled = False\n",
        "torch.manual_seed(random_seed)\n",
        "\n",
        "\n",
        "train = datasets.MNIST(\"\", train=True, download=True,\n",
        "                      transform = transforms.Compose([transforms.ToTensor()]))\n",
        "\n",
        "test = datasets.MNIST(\"\", train=False, download=True,\n",
        "                      transform = transforms.Compose([transforms.ToTensor()]))\n",
        "\n",
        "trainset = torch.utils.data.DataLoader(train, batch_size=10, shuffle=True)\n",
        "\n",
        "testset = torch.utils.data.DataLoader(test, batch_size=10, shuffle=False)\n",
        "\n",
        "examples = enumerate(testset)\n",
        "batch_idx, (example_data, example_targets) = next(examples)\n",
        "example_data.shape"
      ],
      "execution_count": 1,
      "outputs": [
        {
          "output_type": "execute_result",
          "data": {
            "text/plain": [
              "torch.Size([10, 1, 28, 28])"
            ]
          },
          "metadata": {
            "tags": []
          },
          "execution_count": 1
        }
      ]
    },
    {
      "cell_type": "code",
      "metadata": {
        "id": "xoE5ag5fB8Fp",
        "colab_type": "code",
        "colab": {
          "base_uri": "https://localhost:8080/",
          "height": 551
        },
        "outputId": "8c379c30-d484-45a9-a8d4-bd5cb5ec8472"
      },
      "source": [
        "import matplotlib.pyplot as plt\n",
        "\n",
        "fig = plt.figure()\n",
        "for i in range(6):\n",
        "  plt.subplot(2,3,i+1)\n",
        "  plt.tight_layout()\n",
        "  plt.imshow(example_data[i][0], cmap='gray', interpolation='none')\n",
        "  plt.title(\"Expected: {}\".format(example_targets[i]))\n",
        "  plt.xticks([])\n",
        "  plt.yticks([])\n",
        "fig"
      ],
      "execution_count": 2,
      "outputs": [
        {
          "output_type": "execute_result",
          "data": {
            "image/png": "[encoded data removed]",
            "text/plain": [
              "<Figure size 432x288 with 6 Axes>"
            ]
          },
          "metadata": {
            "tags": []
          },
          "execution_count": 2
        },
        {
          "output_type": "display_data",
          "data": {
            "image/png": "[encoded data removed]",
            "text/plain": [
              "<Figure size 432x288 with 6 Axes>"
            ]
          },
          "metadata": {
            "tags": []
          }
        }
      ]
    },
    {
      "cell_type": "code",
      "metadata": {
        "id": "VxVjmfowXmdi",
        "colab_type": "code",
        "colab": {}
      },
      "source": [
        "import torch.nn as nn\n",
        "import torch.nn.functional as F\n",
        "import torch.optim as optim\n",
        "class Net(nn.Module):\n",
        "    def __init__(self):\n",
        "        super(Net, self).__init__()\n",
        "        self.conv1 = nn.Conv2d(1, 10, kernel_size=5)\n",
        "        self.conv2 = nn.Conv2d(10, 20, kernel_size=5)\n",
        "        self.conv2_drop = nn.Dropout2d()\n",
        "        self.fc1 = nn.Linear(320, 50)\n",
        "        self.fc2 = nn.Linear(50, 10)\n",
        "\n",
        "    def forward(self, x):\n",
        "        x = F.relu(F.max_pool2d(self.conv1(x), 2))\n",
        "        x = F.relu(F.max_pool2d(self.conv2_drop(self.conv2(x)), 2))\n",
        "        x = x.view(-1, 320)\n",
        "        x = F.relu(self.fc1(x))\n",
        "        x = F.dropout(x, training=self.training)\n",
        "        x = self.fc2(x)\n",
        "        return F.log_softmax(x)"
      ],
      "execution_count": 3,
      "outputs": []
    },
    {
      "cell_type": "code",
      "metadata": {
        "id": "GwsuQ4reDe24",
        "colab_type": "code",
        "colab": {}
      },
      "source": [
        "model = Net().to(device)\n",
        "optimizer = optim.SGD(model.parameters(), lr=lr,\n",
        "                      momentum=momentum)"
      ],
      "execution_count": 4,
      "outputs": []
    },
    {
      "cell_type": "code",
      "metadata": {
        "id": "3buw-QgRDqj2",
        "colab_type": "code",
        "colab": {}
      },
      "source": [
        "def train(model, device, trainset, optimizer, epoch,log_interval):\n",
        "    model.train()\n",
        "    avg_loss = 0\n",
        "    # in training loop:\n",
        "    for batch_idx, (data, target) in enumerate(trainset):\n",
        "        data, target = data.to(device), target.to(device)\n",
        "        optimizer.zero_grad() # zero the gradient buffers\n",
        "        output = model(data)\n",
        "        loss = F.nll_loss(output, target)\n",
        "        loss.backward()\n",
        "        optimizer.step() # Does the update\n",
        "        avg_loss+=F.nll_loss(output, target, reduction='sum').item()\n",
        "        \n",
        "        if batch_idx % log_interval == 0:\n",
        "            print('Train Epoch: {} [{}/{} ({:.0f}%)]\\tLoss: {:.6f}'.format(\n",
        "                epoch, batch_idx * len(data), len(trainset.dataset),\n",
        "                100. * batch_idx / len(trainset), loss.item()))\n",
        "    avg_loss/=len(trainset.dataset)\n",
        "    return avg_loss\n",
        "\n",
        "def test(model, device, testset):\n",
        "    model.eval()\n",
        "    test_loss = 0\n",
        "    correct = 0\n",
        "    with torch.no_grad():\n",
        "        for data, target in testset:\n",
        "            data, target = data.to(device), target.to(device)\n",
        "            output = model(data)\n",
        "            test_loss += F.nll_loss(output, target, reduction='sum').item() # sum up batch loss\n",
        "            pred = output.argmax(dim=1, keepdim=True) # get the index of the max log-probability\n",
        "            correct += pred.eq(target.view_as(pred)).sum().item()\n",
        "            X.append(data)\n",
        "            predictions.append(pred)\n",
        "    test_loss /= len(testset.dataset)\n",
        "\n",
        "    print('\\nTest set: Average loss: {:.4f}, Accuracy: {}/{} ({:.0f}%)\\n'.format(\n",
        "        test_loss, correct, len(testset.dataset),\n",
        "        100. * correct / len(testset.dataset)))\n",
        "    accuracy = 100. * correct / len(testset.dataset)\n",
        "    return test_loss,accuracy\n",
        "\n",
        "\n"
      ],
      "execution_count": 7,
      "outputs": []
    },
    {
      "cell_type": "code",
      "metadata": {
        "id": "M9ImVg7CMNvJ",
        "colab_type": "code",
        "colab": {
          "base_uri": "https://localhost:8080/",
          "height": 513
        },
        "outputId": "cec295d8-a667-4c3f-b442-ba7c31d21c26"
      },
      "source": [
        "predictions = []\n",
        "train_losses = []\n",
        "test_losses = []\n",
        "accuracy_list = []\n",
        "X =[]\n",
        "for epoch in range(1, epochs + 1):\n",
        "    trn_loss = train(model, device, trainset, optimizer, epoch,log_interval)\n",
        "    test_loss,accuracy = test(model, device, testset)\n",
        "    train_losses.append(trn_loss)\n",
        "    test_losses.append(test_loss)\n",
        "    accuracy_list.append(accuracy)\n",
        "    "
      ],
      "execution_count": 8,
      "outputs": [
        {
          "output_type": "stream",
          "text": [
            "/usr/local/lib/python3.6/dist-packages/ipykernel_launcher.py:20: UserWarning: Implicit dimension choice for log_softmax has been deprecated. Change the call to include dim=X as an argument.\n"
          ],
          "name": "stderr"
        },
        {
          "output_type": "stream",
          "text": [
            "Train Epoch: 1 [0/60000 (0%)]\tLoss: 0.155760\n",
            "Train Epoch: 1 [10000/60000 (17%)]\tLoss: 0.169179\n",
            "Train Epoch: 1 [20000/60000 (33%)]\tLoss: 0.006613\n",
            "Train Epoch: 1 [30000/60000 (50%)]\tLoss: 0.102368\n",
            "Train Epoch: 1 [40000/60000 (67%)]\tLoss: 0.021755\n",
            "Train Epoch: 1 [50000/60000 (83%)]\tLoss: 0.184585\n",
            "\n",
            "Test set: Average loss: 0.0799, Accuracy: 9752/10000 (98%)\n",
            "\n",
            "Train Epoch: 2 [0/60000 (0%)]\tLoss: 0.057008\n",
            "Train Epoch: 2 [10000/60000 (17%)]\tLoss: 0.012454\n",
            "Train Epoch: 2 [20000/60000 (33%)]\tLoss: 0.487209\n",
            "Train Epoch: 2 [30000/60000 (50%)]\tLoss: 0.176064\n",
            "Train Epoch: 2 [40000/60000 (67%)]\tLoss: 0.131876\n",
            "Train Epoch: 2 [50000/60000 (83%)]\tLoss: 0.267380\n",
            "\n",
            "Test set: Average loss: 0.0654, Accuracy: 9788/10000 (98%)\n",
            "\n",
            "Train Epoch: 3 [0/60000 (0%)]\tLoss: 0.096782\n",
            "Train Epoch: 3 [10000/60000 (17%)]\tLoss: 0.032062\n",
            "Train Epoch: 3 [20000/60000 (33%)]\tLoss: 0.132339\n",
            "Train Epoch: 3 [30000/60000 (50%)]\tLoss: 0.080232\n",
            "Train Epoch: 3 [40000/60000 (67%)]\tLoss: 0.007738\n",
            "Train Epoch: 3 [50000/60000 (83%)]\tLoss: 0.036641\n",
            "\n",
            "Test set: Average loss: 0.0567, Accuracy: 9833/10000 (98%)\n",
            "\n"
          ],
          "name": "stdout"
        }
      ]
    },
    {
      "cell_type": "code",
      "metadata": {
        "id": "djPMVBaFMZaa",
        "colab_type": "code",
        "colab": {
          "base_uri": "https://localhost:8080/",
          "height": 513
        },
        "outputId": "c5b977a1-0870-451a-a4a1-16e6f0a31b32"
      },
      "source": [
        "import matplotlib.pyplot as plt\n",
        "%matplotlib inline\n",
        "plt.plot(train_losses,'b')\n",
        "plt.plot(test_losses,'r')\n",
        "plt.ylabel('Loss')\n",
        "plt.show()\n",
        "plt.plot(accuracy_list,'g')\n",
        "plt.ylabel('accuracy')\n",
        "plt.show()"
      ],
      "execution_count": null,
      "outputs": [
        {
          "output_type": "display_data",
          "data": {
            "image/png": "[encoded data removed]",
            "text/plain": [
              "<Figure size 432x288 with 1 Axes>"
            ]
          },
          "metadata": {
            "tags": [],
            "needs_background": "light"
          }
        },
        {
          "output_type": "display_data",
          "data": {
            "image/png": "[encoded data removed]",
            "text/plain": [
              "<Figure size 432x288 with 1 Axes>"
            ]
          },
          "metadata": {
            "tags": [],
            "needs_background": "light"
          }
        }
      ]
    },
    {
      "cell_type": "code",
      "metadata": {
        "id": "Ja7uiDClnMqT",
        "colab_type": "code",
        "colab": {}
      },
      "source": [
        ""
      ],
      "execution_count": null,
      "outputs": []
    }
  ]
}